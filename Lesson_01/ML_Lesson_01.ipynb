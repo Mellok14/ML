{
 "cells": [
  {
   "cell_type": "markdown",
   "metadata": {},
   "source": [
    "### Алгоритм линейной регрессии. Градиентный спуск###"
   ]
  },
  {
   "cell_type": "markdown",
   "metadata": {},
   "source": [
    "**1. Подберите скорость обучения (alpha) и количество итераций для достижения минимальног значения функции потерь;**"
   ]
  },
  {
   "cell_type": "code",
   "execution_count": 172,
   "metadata": {},
   "outputs": [],
   "source": [
    "import numpy as np\n",
    "import matplotlib.pyplot as plt"
   ]
  },
  {
   "cell_type": "code",
   "execution_count": 173,
   "metadata": {},
   "outputs": [
    {
     "data": {
      "text/plain": [
       "(array([1. , 0.5]), 0.015)"
      ]
     },
     "execution_count": 173,
     "metadata": {},
     "output_type": "execute_result"
    }
   ],
   "source": [
    "y = [45, 55, 50, 59, 65, 35, 75, 80, 50, 60]\n",
    "X = np.array([[1, 1, 1, 1, 1, 1, 1, 1, 1, 1],\n",
    "              [1, 1, 2, 1, 3, 0, 5, 10, 1, 2]])\n",
    "n = X.shape[1]\n",
    "alpha = 0.015\n",
    "W = np.array([1, 0.5])\n",
    "W, alpha"
   ]
  },
  {
   "cell_type": "code",
   "execution_count": 174,
   "metadata": {},
   "outputs": [],
   "source": [
    "def calc_mse(y, y_pred):\n",
    "    err = np.mean((y - y_pred)**2)\n",
    "    return err"
   ]
  },
  {
   "cell_type": "code",
   "execution_count": 170,
   "metadata": {},
   "outputs": [],
   "source": [
    "error =[]"
   ]
  },
  {
   "cell_type": "code",
   "execution_count": 171,
   "metadata": {},
   "outputs": [
    {
     "name": "stdout",
     "output_type": "stream",
     "text": [
      "0 [2.653 0.5  ] 3173.15\n",
      "0 [2.653 5.6  ] 3173.15\n",
      "100 [38.21842136  5.60153819] 91.01248538892533\n",
      "100 [38.21842136  5.57516691] 91.01248538892533\n",
      "200 [45.3605556   4.26179286] 47.88083415613009\n",
      "200 [45.3605556   4.25631719] 47.88083415613009\n",
      "300 [46.84353102  3.98361139] 46.02128366869774\n",
      "300 [46.84353102  3.98247443] 46.02128366869774\n",
      "400 [47.15145244  3.92585046] 45.94111219562693\n",
      "400 [47.15145244  3.92561439] 45.94111219562693\n",
      "500 [47.21538849  3.91385712] 45.93765573389719\n",
      "500 [47.21538849  3.91380811] 45.93765573389719\n",
      "600 [47.22866402  3.91136686] 45.93750671421187\n",
      "600 [47.22866402  3.91135668] 45.93750671421187\n",
      "700 [47.23142052  3.91084978] 45.937500289472226\n",
      "700 [47.23142052  3.91084767] 45.937500289472226\n",
      "800 [47.23199287  3.91074242] 45.937500012480136\n",
      "800 [47.23199287  3.91074198] 45.937500012480136\n",
      "900 [47.23211171  3.91072013] 45.93750000053807\n",
      "900 [47.23211171  3.91072004] 45.93750000053807\n",
      "1000 [47.23213639  3.9107155 ] 45.937500000023206\n",
      "1000 [47.23213639  3.91071548] 45.937500000023206\n"
     ]
    }
   ],
   "source": [
    "for i in range(1100):\n",
    "    y_pred = np.dot(W, X)\n",
    "    err = calc_mse(y, y_pred)\n",
    "    for ii in range(W.shape[0]):\n",
    "        W[ii] -= alpha * (1/n * 2 * np.sum(X[ii] * (y_pred - y)))\n",
    "        if i % 100 == 0:\n",
    "            print(i, W, err)\n",
    "        if i % 100 == 0:\n",
    "            error.append(err)"
   ]
  },
  {
   "cell_type": "code",
   "execution_count": 23,
   "metadata": {},
   "outputs": [
    {
     "data": {
      "text/plain": [
       "Text(0, 0.5, 'MSE')"
      ]
     },
     "execution_count": 23,
     "metadata": {},
     "output_type": "execute_result"
    },
    {
     "data": {
      "image/png": "[encoded data removed]",
      "text/plain": [
       "<Figure size 432x288 with 1 Axes>"
      ]
     },
     "metadata": {
      "needs_background": "light"
     },
     "output_type": "display_data"
    }
   ],
   "source": [
    "plt.plot(range(len(error)), error)\n",
    "plt.title('MSE')\n",
    "plt.xlabel('Iteration number')\n",
    "plt.ylabel('MSE')"
   ]
  },
  {
   "cell_type": "markdown",
   "metadata": {},
   "source": [
    "#### alpha = 0.015; iter = 1100####"
   ]
  },
  {
   "cell_type": "markdown",
   "metadata": {},
   "source": [
    "**2 (опция). В этом коде мы избавляемся от итераций по весам, но тут есть ошибка, исправьте ее:**"
   ]
  },
  {
   "cell_type": "code",
   "execution_count": null,
   "metadata": {},
   "outputs": [],
   "source": [
    "for i in range(6000):\n",
    "    y_pred = np.dot(W, X)\n",
    "    err = calc_mse(y, y_pred)\n",
    "     '''for ii in range(W.shape[0]):\n",
    "        W[ii] -= alpha * (1/n * 2 * np.sum(X[ii] * (y_pred - y))) '''\n",
    "    W -= alpha * (1/n * 2 * np.dot(X,(y_pred - y)))\n",
    "    if i % 500 == 0:\n",
    "        print(i, W, err)"
   ]
  },
  {
   "cell_type": "markdown",
   "metadata": {},
   "source": [
    "**3 (опция). Реализовать один из критериев останова, перечисленный в методичке.**"
   ]
  },
  {
   "cell_type": "code",
   "execution_count": 175,
   "metadata": {},
   "outputs": [],
   "source": [
    "min_weight_dist = 1e-6"
   ]
  },
  {
   "cell_type": "code",
   "execution_count": 176,
   "metadata": {},
   "outputs": [
    {
     "name": "stdout",
     "output_type": "stream",
     "text": [
      "0 [2.653 5.6  ] 3173.15\n",
      "500 [47.21538849  3.91380811] 45.93765573389719\n",
      "857 [47.23208163  3.91072559] 45.93750000207943 Достигнуто условие останова\n"
     ]
    }
   ],
   "source": [
    "for i in range(1100):\n",
    "    y_pred = np.dot(W, X)\n",
    "    err = calc_mse(y, y_pred)\n",
    "    new_w = W - alpha * (1/n * 2 * np.dot(X,(y_pred - y)))\n",
    "    weight_dist = np.linalg.norm(new_w - W, ord=2)\n",
    "    W = new_w    \n",
    "    if i % 500 == 0:\n",
    "        print(i, W, err)\n",
    "    if weight_dist < min_weight_dist:\n",
    "        print(i, W, err, 'Достигнуто условие останова')  \n",
    "        break"
   ]
  }
 ],
 "metadata": {
  "kernelspec": {
   "display_name": "Python 3",
   "language": "python",
   "name": "python3"
  },
  "language_info": {
   "codemirror_mode": {
    "name": "ipython",
    "version": 3
   },
   "file_extension": ".py",
   "mimetype": "text/x-python",
   "name": "python",
   "nbconvert_exporter": "python",
   "pygments_lexer": "ipython3",
   "version": "3.7.4"
  }
 },
 "nbformat": 4,
 "nbformat_minor": 2
}
