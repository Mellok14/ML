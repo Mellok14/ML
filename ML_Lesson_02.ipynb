{
 "cells": [
  {
   "cell_type": "markdown",
   "metadata": {},
   "source": [
    "#### 1. Сгенерировать датасет при помощи sklearn.datasets.make_regression и обучить линейную модель при помощи градиентного и стохастического градиентного спуска. Нанести среднеквадратичную ошибку для обоих методов на один график, сделать выводы о разнице скорости сходимости каждого из методов.####"
   ]
  },
  {
   "cell_type": "code",
   "execution_count": 114,
   "metadata": {},
   "outputs": [],
   "source": [
    "import numpy as np\n",
    "from sklearn import datasets\n",
    "import matplotlib.pyplot as plt\n",
    "\n",
    "%matplotlib inline"
   ]
  },
  {
   "cell_type": "code",
   "execution_count": 115,
   "metadata": {},
   "outputs": [],
   "source": [
    "data, target, coef = datasets.make_regression(n_samples=1000, n_features = 2, n_informative = 2, n_targets = 1, \n",
    "                                              noise = 5, coef = True, random_state = 3)"
   ]
  },
  {
   "cell_type": "code",
   "execution_count": 116,
   "metadata": {},
   "outputs": [],
   "source": [
    "from sklearn.preprocessing import StandardScaler"
   ]
  },
  {
   "cell_type": "code",
   "execution_count": 117,
   "metadata": {},
   "outputs": [],
   "source": [
    "scaler = StandardScaler()"
   ]
  },
  {
   "cell_type": "code",
   "execution_count": 118,
   "metadata": {},
   "outputs": [],
   "source": [
    "data = scaler.fit_transform(data)"
   ]
  },
  {
   "cell_type": "code",
   "execution_count": 234,
   "metadata": {},
   "outputs": [],
   "source": [
    "def mserror(X, w, y_pred):\n",
    "    y = X.dot(w)\n",
    "    return (sum((y - y_pred)**2)) / len(y)"
   ]
  },
  {
   "cell_type": "code",
   "execution_count": 120,
   "metadata": {},
   "outputs": [],
   "source": [
    "def learning_schedule(t, t_start = 1.):\n",
    "    return t_start / (t + t_start)"
   ]
  },
  {
   "cell_type": "markdown",
   "metadata": {},
   "source": [
    "**Стохастический градиентный спуск.**"
   ]
  },
  {
   "cell_type": "code",
   "execution_count": 235,
   "metadata": {},
   "outputs": [
    {
     "name": "stdout",
     "output_type": "stream",
     "text": [
      "w = [54.46193367 94.33160452], MSE = 29.809649\n"
     ]
    }
   ],
   "source": [
    "#Почему то критерий останова по разнице весов отрабатывает лучше чем по разнице значений MSE, оставил его.\n",
    "w = np.zeros(2)\n",
    "w_list = [w.copy()]\n",
    "errors = []\n",
    "max_iter = 1e5\n",
    "#tol= 1e-6\n",
    "eta = 0.04\n",
    "weight_dist = np.inf\n",
    "iter_num = 0\n",
    "np.random.seed(1234)\n",
    "min_weight_dist = 1e-8\n",
    "\n",
    "#while iter_num < max_iter:\n",
    "while weight_dist > min_weight_dist and iter_num < max_iter:\n",
    "    \n",
    "    #eta = learning_schedule(iter_num+1)\n",
    "    train_ind = np.random.randint(data.shape[0])\n",
    "    new_w = w - 2 * eta * np.dot(data[train_ind].T, (np.dot(data[train_ind], w) - target[train_ind])) / target.shape[0]\n",
    "    weight_dist = np.linalg.norm(new_w - w, ord=2)\n",
    "    w_list.append(new_w.copy())\n",
    "    errors.append(mserror(data, new_w, target))   \n",
    "    iter_num += 1\n",
    "    w = new_w\n",
    "    #if iter_num > 2 and np.abs(errors[-1] - errors[-2]) < tol:\n",
    "        #break\n",
    "w_list = np.array(w_list)\n",
    "\n",
    "print(f'w = {w_list[-1]}, MSE = {round(errors[-1], 6)}')"
   ]
  },
  {
   "cell_type": "markdown",
   "metadata": {},
   "source": [
    "\n",
    "**Градиентный спуск**"
   ]
  },
  {
   "cell_type": "code",
   "execution_count": 180,
   "metadata": {},
   "outputs": [
    {
     "name": "stdout",
     "output_type": "stream",
     "text": [
      "w = [54.93485657 95.12420775], MSE = 28.9597\n"
     ]
    }
   ],
   "source": [
    "w = np.zeros(2)\n",
    "w_list1 = [w.copy()]\n",
    "errors1 = []\n",
    "max_iter = 1e4\n",
    "#tol= 1e-6\n",
    "weight_dist = np.inf\n",
    "iter_num = 0\n",
    "np.random.seed(1234)\n",
    "min_weight_dist = 1e-8\n",
    "eta = 0.1\n",
    "#while iter_num < max_iter:\n",
    "while weight_dist > min_weight_dist and iter_num < max_iter:\n",
    "    new_w = w - 2 * eta * np.dot(data.T, (np.dot(data, w) - target)) / target.shape[0]\n",
    "    weight_dist = np.linalg.norm(new_w - w, ord=2)\n",
    "    w_list1.append(new_w.copy())\n",
    "    errors1.append(mserror(data, new_w, target))\n",
    "    \n",
    "    iter_num += 1\n",
    "    w = new_w\n",
    "    #if iter_num > 2 and np.abs(errors[-1] - errors[-2]) < tol:\n",
    "        #break\n",
    "w_list1 = np.array(w_list1)\n",
    "\n",
    "print(f'w = {w_list1[-1]}, MSE = {round(errors1[-1], 4)}')"
   ]
  },
  {
   "cell_type": "code",
   "execution_count": 236,
   "metadata": {},
   "outputs": [
    {
     "data": {
      "image/png": "[encoded data removed]",
      "text/plain": [
       "<Figure size 720x360 with 2 Axes>"
      ]
     },
     "metadata": {
      "needs_background": "light"
     },
     "output_type": "display_data"
    }
   ],
   "source": [
    "fig, ax1 = plt.subplots(figsize=(10, 5))\n",
    "\n",
    "color = 'tab:red'\n",
    "ax1.set_xlabel('Iterations of Stochastic gradient descent', color=color)\n",
    "ax1.set_ylabel('MSE')\n",
    "ax1.plot(errors, color=color)\n",
    "ax1.tick_params(axis='x', labelcolor=color)\n",
    "\n",
    "ax2 = ax1.twiny()\n",
    "\n",
    "color = 'tab:blue'\n",
    "ax2.set_xlabel('Iterations of Gradient Descent', color=color)\n",
    "ax2.plot(errors1, color=color)\n",
    "ax2.tick_params(axis='x', labelcolor=color)\n",
    "\n",
    "fig.tight_layout()\n",
    "plt.show()"
   ]
  },
  {
   "cell_type": "markdown",
   "metadata": {},
   "source": [
    "Из графика видно, что сходимость Градиентного спуска наступает на **~100** операции, а Стохастического градиентного спуска **~60000**. \n",
    "Однако при значительном увеличении количества наблюдаемых данных время выполнения Стохастического градиентного спуска окажется быстрее."
   ]
  },
  {
   "cell_type": "markdown",
   "metadata": {},
   "source": [
    "#### 2. Модифицировать решение первого задания путем добавления 𝐿2 -регуляризации (в функцию, считающую MSE, нужно добавить норму вектора весов) и сравнить результаты.####"
   ]
  },
  {
   "cell_type": "markdown",
   "metadata": {},
   "source": [
    "**Стохастический градиентный спуск.**"
   ]
  },
  {
   "cell_type": "code",
   "execution_count": 237,
   "metadata": {},
   "outputs": [
    {
     "name": "stdout",
     "output_type": "stream",
     "text": [
      "w = [54.46193367 94.33160452], MSE + L2-regularization= 89.1324\n"
     ]
    }
   ],
   "source": [
    "w = np.zeros(2)\n",
    "w_list = [w.copy()]\n",
    "errors = []\n",
    "max_iter = 1e5\n",
    "#tol= 1e-6\n",
    "eta = 0.04\n",
    "weight_dist = np.inf\n",
    "iter_num = 0\n",
    "np.random.seed(1234)\n",
    "min_weight_dist = 1e-8\n",
    "lambda_ = 0.005\n",
    "\n",
    "#while iter_num < max_iter:\n",
    "while weight_dist > min_weight_dist and iter_num < max_iter:\n",
    "    \n",
    "    #eta = learning_schedule(iter_num+1)\n",
    "    train_ind = np.random.randint(data.shape[0])\n",
    "    new_w = w - 2 * eta * np.dot(data[train_ind].T, (np.dot(data[train_ind], w) - target[train_ind])) / target.shape[0]\n",
    "    weight_dist = np.linalg.norm(new_w - w, ord=2)\n",
    "    w_list.append(new_w.copy())\n",
    "    errors.append(mserror(data, new_w, target) + lambda_ * np.sum(np.square(new_w)))\n",
    "    \n",
    "    iter_num += 1\n",
    "    w = new_w\n",
    "    #if iter_num > 2 and np.abs(errors[-1] - errors[-2]) < tol:\n",
    "        #break\n",
    "w_list = np.array(w_list)\n",
    "\n",
    "print(f'w = {w_list[-1]}, MSE + L2-regularization= {round(errors[-1], 4)}')"
   ]
  },
  {
   "cell_type": "markdown",
   "metadata": {},
   "source": [
    "**Градиентный спуск**"
   ]
  },
  {
   "cell_type": "code",
   "execution_count": 238,
   "metadata": {},
   "outputs": [
    {
     "name": "stdout",
     "output_type": "stream",
     "text": [
      "w = [54.93485657 95.12420775], MSE = 89.2919\n"
     ]
    }
   ],
   "source": [
    "w = np.zeros(2)\n",
    "w_list1 = [w.copy()]\n",
    "errors1 = []\n",
    "max_iter = 1e4\n",
    "#tol= 1e-6\n",
    "weight_dist = np.inf\n",
    "iter_num = 0\n",
    "np.random.seed(1234)\n",
    "min_weight_dist = 1e-8\n",
    "eta = 0.1\n",
    "lambda_ = 0.005\n",
    "\n",
    "#while iter_num < max_iter:\n",
    "while weight_dist > min_weight_dist and iter_num < max_iter:\n",
    "    new_w = w - 2 * eta * np.dot(data.T, (np.dot(data, w) - target)) / target.shape[0]\n",
    "    weight_dist = np.linalg.norm(new_w - w, ord=2)\n",
    "    w_list1.append(new_w.copy())\n",
    "    errors1.append(mserror(data, new_w, target) + lambda_ * np.sum(np.square(new_w)))\n",
    "    \n",
    "    iter_num += 1\n",
    "    w = new_w\n",
    "    #if iter_num > 2 and np.abs(errors[-1] - errors[-2]) < tol:\n",
    "        #break\n",
    "w_list1 = np.array(w_list1)\n",
    "\n",
    "print(f'w = {w_list1[-1]}, MSE = {round(errors1[-1], 4)}')"
   ]
  },
  {
   "cell_type": "markdown",
   "metadata": {},
   "source": [
    "При увеличении значения lambda - увеличивается разброс метрики ошибки. Также введение L2 регуляризации замеляет сходимость Стохастического градиентного спуска."
   ]
  },
  {
   "cell_type": "code",
   "execution_count": null,
   "metadata": {},
   "outputs": [],
   "source": []
  }
 ],
 "metadata": {
  "kernelspec": {
   "display_name": "Python 3",
   "language": "python",
   "name": "python3"
  },
  "language_info": {
   "codemirror_mode": {
    "name": "ipython",
    "version": 3
   },
   "file_extension": ".py",
   "mimetype": "text/x-python",
   "name": "python",
   "nbconvert_exporter": "python",
   "pygments_lexer": "ipython3",
   "version": "3.7.4"
  }
 },
 "nbformat": 4,
 "nbformat_minor": 2
}
